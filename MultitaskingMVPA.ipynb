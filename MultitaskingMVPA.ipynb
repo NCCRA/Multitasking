{
 "cells": [
  {
   "cell_type": "markdown",
   "metadata": {},
   "source": [
    "Here we are going to try to train a multinomial MVPA classifier using logistic regression to recognize our different tasks. (Easy to repurpose this to recognize different task stimuli!) Let's see if the classifier accuracy improves over time! "
   ]
  },
  {
   "cell_type": "code",
   "execution_count": 1,
   "metadata": {
    "collapsed": true
   },
   "outputs": [],
   "source": [
    " from nilearn.input_data import NiftiMasker\n"
   ]
  },
  {
   "cell_type": "code",
   "execution_count": 2,
   "metadata": {
    "collapsed": false
   },
   "outputs": [],
   "source": [
    "# let's start off with day 1 data. We'll use a greymatter mask.\n",
    "mask_filename = '/Volumes/cohen/abby/fMRIMultitasking/Subject_102/graymatter.nii'\n",
    "fmri_filename = '/Volumes/cohen/abby/fMRIMultitasking/Subject_102/Multitasking_Subject102_Session1_20170505/cleanDay1_shft_aligned.nii'\n"
   ]
  },
  {
   "cell_type": "code",
   "execution_count": null,
   "metadata": {
    "collapsed": false
   },
   "outputs": [],
   "source": [
    "# easy way to mask fmri data\n",
    "masker = NiftiMasker(mask_img=mask_filename, standardize=True)\n",
    "fmri_masked = masker.fit_transform(fmri_filename)"
   ]
  },
  {
   "cell_type": "code",
   "execution_count": 3,
   "metadata": {
    "collapsed": true
   },
   "outputs": [],
   "source": [
    "# similar but slightly different way to mask fmri data\n",
    "import nibabel \n",
    "mask = nibabel.load(mask_filename) \n",
    "mask_data = mask.get_data()\n",
    "masker = NiftiMasker(mask_img=mask_filename, standardize=True)"
   ]
  },
  {
   "cell_type": "code",
   "execution_count": null,
   "metadata": {
    "collapsed": true
   },
   "outputs": [],
   "source": [
    "# I have super big epi files, so this takes a while\n",
    "fmri_masked = masker.fit_transform(fmri_filename)"
   ]
  },
  {
   "cell_type": "code",
   "execution_count": null,
   "metadata": {
    "collapsed": true
   },
   "outputs": [],
   "source": [
    "# good to know what happened at each TR!\n",
    "import scipy.io as sio\n",
    "condition_label_filename = '/Users/abby/Dropbox/abigailnovick/multitaskingmultipurposing/fMRIMultitaskingLongTermCopy/SessionData/102/Session1ConditionLabels.mat'\n",
    "matlabLabels = sio.loadmat(condition_label_filename)\n",
    "labelArray = matlabLabels['conditionLabels']\n",
    "maxes = np.max(labelArray, axis=0)\n",
    "rest_mask = maxes == 0\n",
    "labelVector_numbers = np.argmax(labelArray, axis=0) + 1\n",
    "labelVector_numbers[rest_mask] = 0\n",
    "# need to turn labels to strings\n",
    "labelVector = labelVector_numbers.astype(str)"
   ]
  },
  {
   "cell_type": "code",
   "execution_count": null,
   "metadata": {
    "collapsed": true
   },
   "outputs": [],
   "source": [
    "# getting rid of rests\n",
    "condition_mask = labelVector != \"0\"\n",
    "fmri_masked_norest = fmri_masked[condition_mask]\n",
    "condition_norest = labelVector[condition_mask]\n"
   ]
  },
  {
   "cell_type": "code",
   "execution_count": null,
   "metadata": {
    "collapsed": true
   },
   "outputs": [],
   "source": [
    "# one way to train classifier\n",
    "import sklearn.svm\n",
    "import sklearn.linear_model\n",
    "svc_split = sklearn.linear_model.LogisticRegression(multi_class='multinomial', solver='newton-cg')\n"
   ]
  },
  {
   "cell_type": "code",
   "execution_count": null,
   "metadata": {
    "collapsed": true
   },
   "outputs": [],
   "source": [
    "# alternate way to train/test classifier\n",
    "from sklearn.cross_validation import KFold\n",
    "cv = KFold(n=len(fmri_masked_norest), n_folds=5)\n",
    "target=condition_norest\n",
    "for train, test in cv:\n",
    "    svc_split.fit(fmri_masked_norest[train], target[train])\n",
    "    prediction_split = svc_split.predict(fmri_masked_norest[test])\n",
    "    print((prediction_split == target[test]).sum() / float(len(target[test])))\n"
   ]
  },
  {
   "cell_type": "code",
   "execution_count": null,
   "metadata": {
    "collapsed": true
   },
   "outputs": [],
   "source": [
    "# for new data, try next few sessions\n",
    "new_data_predictions = svc_split.predict_log_proba(new_data)"
   ]
  }
 ],
 "metadata": {
  "kernelspec": {
   "display_name": "Python 3",
   "language": "python",
   "name": "python3"
  },
  "language_info": {
   "codemirror_mode": {
    "name": "ipython",
    "version": 3
   },
   "file_extension": ".py",
   "mimetype": "text/x-python",
   "name": "python",
   "nbconvert_exporter": "python",
   "pygments_lexer": "ipython3",
   "version": "3.5.2"
  }
 },
 "nbformat": 4,
 "nbformat_minor": 0
}
